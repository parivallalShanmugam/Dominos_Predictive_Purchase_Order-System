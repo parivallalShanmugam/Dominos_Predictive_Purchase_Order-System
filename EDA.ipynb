{
 "cells": [
  {
   "cell_type": "code",
   "execution_count": 1,
   "metadata": {},
   "outputs": [],
   "source": [
    "import pandas as pd"
   ]
  },
  {
   "cell_type": "code",
   "execution_count": null,
   "metadata": {},
   "outputs": [],
   "source": [
    "import matplotlib.pyplot as plt\n",
    "import seaborn as sns\n",
    "sales_comparison_columns = ['pizza_category','pizza_name','pizza_size']\n",
    "for column in sales_comparison_columns:\n",
    "    category_sales = df_sales.groupby(column)['quantity'].sum().reset_index()\n",
    "\n",
    "    plt.figure(figsize=(10, 6))\n",
    "    sns.barplot(x=column, y='quantity', data=category_sales, palette='viridis')\n",
    "    plt.title(f'Total Pizzas Sold by {column}', fontsize=16)\n",
    "    plt.xlabel(column, fontsize=12)\n",
    "    plt.ylabel('Total Quantity Sold', fontsize=12)\n",
    "    plt.xticks(rotation=45)\n",
    "    plt.tight_layout()\n",
    "    plt.show()"
   ]
  },
  {
   "cell_type": "code",
   "execution_count": null,
   "metadata": {},
   "outputs": [],
   "source": [
    "import pandas as pd\n",
    "import matplotlib.pyplot as plt\n",
    "\n",
    "# Group by 'order_date' and sum the quantities\n",
    "df_grouped = df_sales.groupby('order_date')['quantity'].sum().reset_index()\n",
    "\n",
    "# Set the 'order_date' as the index\n",
    "df_grouped.set_index('order_date', inplace=True)\n",
    "\n",
    "plt.figure(figsize=(10, 6))\n",
    "plt.plot(df_grouped.index, df_grouped['quantity'], color='blue', marker='.', linestyle='-', linewidth=1)\n",
    "\n",
    "# Add titles and labels\n",
    "plt.title('Pizza Orders Over Time', fontsize=16)\n",
    "plt.xlabel('Date', fontsize=12)\n",
    "plt.ylabel('Quantity Sold', fontsize=12)\n",
    "plt.xticks(rotation=45) \n",
    "plt.grid(visible=True)  \n",
    "plt.tight_layout()  \n",
    "\n",
    "plt.show()\n"
   ]
  }
 ],
 "metadata": {
  "kernelspec": {
   "display_name": "env",
   "language": "python",
   "name": "python3"
  },
  "language_info": {
   "codemirror_mode": {
    "name": "ipython",
    "version": 3
   },
   "file_extension": ".py",
   "mimetype": "text/x-python",
   "name": "python",
   "nbconvert_exporter": "python",
   "pygments_lexer": "ipython3",
   "version": "3.12.2"
  }
 },
 "nbformat": 4,
 "nbformat_minor": 2
}
