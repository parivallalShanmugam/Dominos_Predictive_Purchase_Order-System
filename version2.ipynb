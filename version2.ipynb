{
 "cells": [
  {
   "cell_type": "code",
   "execution_count": 1,
   "metadata": {},
   "outputs": [],
   "source": [
    "import pandas as pd\n",
    "import matplotlib.pyplot as plt"
   ]
  },
  {
   "cell_type": "code",
   "execution_count": 2,
   "metadata": {},
   "outputs": [],
   "source": [
    "df = pd.read_csv('Pizza_Sale.csv')"
   ]
  },
  {
   "cell_type": "code",
   "execution_count": 3,
   "metadata": {},
   "outputs": [
    {
     "data": {
      "text/html": [
       "<div>\n",
       "<style scoped>\n",
       "    .dataframe tbody tr th:only-of-type {\n",
       "        vertical-align: middle;\n",
       "    }\n",
       "\n",
       "    .dataframe tbody tr th {\n",
       "        vertical-align: top;\n",
       "    }\n",
       "\n",
       "    .dataframe thead th {\n",
       "        text-align: right;\n",
       "    }\n",
       "</style>\n",
       "<table border=\"1\" class=\"dataframe\">\n",
       "  <thead>\n",
       "    <tr style=\"text-align: right;\">\n",
       "      <th></th>\n",
       "      <th>pizza_id</th>\n",
       "      <th>order_id</th>\n",
       "      <th>pizza_name_id</th>\n",
       "      <th>quantity</th>\n",
       "      <th>order_date</th>\n",
       "      <th>order_time</th>\n",
       "      <th>unit_price</th>\n",
       "      <th>total_price</th>\n",
       "      <th>pizza_size</th>\n",
       "      <th>pizza_category</th>\n",
       "      <th>pizza_ingredients</th>\n",
       "      <th>pizza_name</th>\n",
       "    </tr>\n",
       "  </thead>\n",
       "  <tbody>\n",
       "    <tr>\n",
       "      <th>0</th>\n",
       "      <td>1</td>\n",
       "      <td>1</td>\n",
       "      <td>hawaiian_m</td>\n",
       "      <td>1</td>\n",
       "      <td>1/1/2015</td>\n",
       "      <td>11:38:36</td>\n",
       "      <td>13.25</td>\n",
       "      <td>13.25</td>\n",
       "      <td>M</td>\n",
       "      <td>Classic</td>\n",
       "      <td>Sliced Ham, Pineapple, Mozzarella Cheese</td>\n",
       "      <td>The Hawaiian Pizza</td>\n",
       "    </tr>\n",
       "    <tr>\n",
       "      <th>1</th>\n",
       "      <td>2</td>\n",
       "      <td>2</td>\n",
       "      <td>classic_dlx_m</td>\n",
       "      <td>1</td>\n",
       "      <td>1/1/2015</td>\n",
       "      <td>11:57:40</td>\n",
       "      <td>16.00</td>\n",
       "      <td>16.00</td>\n",
       "      <td>M</td>\n",
       "      <td>Classic</td>\n",
       "      <td>Pepperoni, Mushrooms, Red Onions, Red Peppers,...</td>\n",
       "      <td>The Classic Deluxe Pizza</td>\n",
       "    </tr>\n",
       "    <tr>\n",
       "      <th>2</th>\n",
       "      <td>3</td>\n",
       "      <td>2</td>\n",
       "      <td>five_cheese_l</td>\n",
       "      <td>1</td>\n",
       "      <td>1/1/2015</td>\n",
       "      <td>11:57:40</td>\n",
       "      <td>18.50</td>\n",
       "      <td>18.50</td>\n",
       "      <td>L</td>\n",
       "      <td>Veggie</td>\n",
       "      <td>Mozzarella Cheese, Provolone Cheese, Smoked Go...</td>\n",
       "      <td>The Five Cheese Pizza</td>\n",
       "    </tr>\n",
       "    <tr>\n",
       "      <th>3</th>\n",
       "      <td>4</td>\n",
       "      <td>2</td>\n",
       "      <td>ital_supr_l</td>\n",
       "      <td>1</td>\n",
       "      <td>1/1/2015</td>\n",
       "      <td>11:57:40</td>\n",
       "      <td>20.75</td>\n",
       "      <td>20.75</td>\n",
       "      <td>L</td>\n",
       "      <td>Supreme</td>\n",
       "      <td>Calabrese Salami, Capocollo, Tomatoes, Red Oni...</td>\n",
       "      <td>The Italian Supreme Pizza</td>\n",
       "    </tr>\n",
       "    <tr>\n",
       "      <th>4</th>\n",
       "      <td>5</td>\n",
       "      <td>2</td>\n",
       "      <td>mexicana_m</td>\n",
       "      <td>1</td>\n",
       "      <td>1/1/2015</td>\n",
       "      <td>11:57:40</td>\n",
       "      <td>16.00</td>\n",
       "      <td>16.00</td>\n",
       "      <td>M</td>\n",
       "      <td>Veggie</td>\n",
       "      <td>Tomatoes, Red Peppers, Jalapeno Peppers, Red O...</td>\n",
       "      <td>The Mexicana Pizza</td>\n",
       "    </tr>\n",
       "  </tbody>\n",
       "</table>\n",
       "</div>"
      ],
      "text/plain": [
       "   pizza_id  order_id  pizza_name_id  quantity order_date order_time  \\\n",
       "0         1         1     hawaiian_m         1   1/1/2015   11:38:36   \n",
       "1         2         2  classic_dlx_m         1   1/1/2015   11:57:40   \n",
       "2         3         2  five_cheese_l         1   1/1/2015   11:57:40   \n",
       "3         4         2    ital_supr_l         1   1/1/2015   11:57:40   \n",
       "4         5         2     mexicana_m         1   1/1/2015   11:57:40   \n",
       "\n",
       "   unit_price  total_price pizza_size pizza_category  \\\n",
       "0       13.25        13.25          M        Classic   \n",
       "1       16.00        16.00          M        Classic   \n",
       "2       18.50        18.50          L         Veggie   \n",
       "3       20.75        20.75          L        Supreme   \n",
       "4       16.00        16.00          M         Veggie   \n",
       "\n",
       "                                   pizza_ingredients  \\\n",
       "0           Sliced Ham, Pineapple, Mozzarella Cheese   \n",
       "1  Pepperoni, Mushrooms, Red Onions, Red Peppers,...   \n",
       "2  Mozzarella Cheese, Provolone Cheese, Smoked Go...   \n",
       "3  Calabrese Salami, Capocollo, Tomatoes, Red Oni...   \n",
       "4  Tomatoes, Red Peppers, Jalapeno Peppers, Red O...   \n",
       "\n",
       "                  pizza_name  \n",
       "0         The Hawaiian Pizza  \n",
       "1   The Classic Deluxe Pizza  \n",
       "2      The Five Cheese Pizza  \n",
       "3  The Italian Supreme Pizza  \n",
       "4         The Mexicana Pizza  "
      ]
     },
     "execution_count": 3,
     "metadata": {},
     "output_type": "execute_result"
    }
   ],
   "source": [
    "df.head()"
   ]
  },
  {
   "cell_type": "code",
   "execution_count": 5,
   "metadata": {},
   "outputs": [],
   "source": [
    "def date_taime(text):\n",
    "    try:\n",
    "        return pd.to_datetime(text, format=\"%d-%m-%Y\")\n",
    "    except ValueError:\n",
    "        try:\n",
    "            return pd.to_datetime(text, format=\"%d/%m/%Y\")\n",
    "        except ValueError:\n",
    "            return pd.NaT\n",
    "df['order_date'] = df['order_date'].apply(date_taime)\n",
    "\n",
    "df.dropna(inplace= True)"
   ]
  },
  {
   "cell_type": "code",
   "execution_count": 6,
   "metadata": {},
   "outputs": [
    {
     "name": "stdout",
     "output_type": "stream",
     "text": [
      "<class 'pandas.core.frame.DataFrame'>\n",
      "Index: 48554 entries, 0 to 48619\n",
      "Data columns (total 12 columns):\n",
      " #   Column             Non-Null Count  Dtype         \n",
      "---  ------             --------------  -----         \n",
      " 0   pizza_id           48554 non-null  int64         \n",
      " 1   order_id           48554 non-null  int64         \n",
      " 2   pizza_name_id      48554 non-null  object        \n",
      " 3   quantity           48554 non-null  int64         \n",
      " 4   order_date         48554 non-null  datetime64[ns]\n",
      " 5   order_time         48554 non-null  object        \n",
      " 6   unit_price         48554 non-null  float64       \n",
      " 7   total_price        48554 non-null  float64       \n",
      " 8   pizza_size         48554 non-null  object        \n",
      " 9   pizza_category     48554 non-null  object        \n",
      " 10  pizza_ingredients  48554 non-null  object        \n",
      " 11  pizza_name         48554 non-null  object        \n",
      "dtypes: datetime64[ns](1), float64(2), int64(3), object(6)\n",
      "memory usage: 4.8+ MB\n"
     ]
    }
   ],
   "source": [
    "df.info()"
   ]
  },
  {
   "cell_type": "code",
   "execution_count": 11,
   "metadata": {},
   "outputs": [
    {
     "data": {
      "text/plain": [
       "(48554, 12)"
      ]
     },
     "execution_count": 11,
     "metadata": {},
     "output_type": "execute_result"
    }
   ],
   "source": [
    "df.shape"
   ]
  },
  {
   "cell_type": "code",
   "execution_count": 10,
   "metadata": {},
   "outputs": [
    {
     "name": "stdout",
     "output_type": "stream",
     "text": [
      "  pizza_name_id order_date  daily_sales\n",
      "0     bbq_ckn_l 2015-01-01            6\n",
      "1     bbq_ckn_l 2015-01-02            2\n",
      "2     bbq_ckn_l 2015-01-03            3\n",
      "3     bbq_ckn_l 2015-01-04            5\n",
      "4     bbq_ckn_l 2015-01-05            1\n"
     ]
    }
   ],
   "source": [
    "# Group by 'pizza_name_id' and 'order_date' and sum the 'quantity'\n",
    "daily_sales = df.groupby(['pizza_name_id', 'order_date'])['quantity'].sum().reset_index()\n",
    "\n",
    "# Rename columns for clarity\n",
    "daily_sales.rename(columns={'quantity': 'daily_sales'}, inplace=True)\n",
    "\n",
    "# Display the aggregated data\n",
    "print(daily_sales.head())\n",
    "\n",
    "# Optionally, save the aggregated data to a new CSV file\n",
    "daily_sales.to_csv('daily_sales.csv', index=False)\n"
   ]
  },
  {
   "cell_type": "code",
   "execution_count": 12,
   "metadata": {},
   "outputs": [
    {
     "data": {
      "text/plain": [
       "(22945, 3)"
      ]
     },
     "execution_count": 12,
     "metadata": {},
     "output_type": "execute_result"
    }
   ],
   "source": [
    "daily_sales.shape"
   ]
  },
  {
   "cell_type": "code",
   "execution_count": 13,
   "metadata": {},
   "outputs": [
    {
     "name": "stdout",
     "output_type": "stream",
     "text": [
      "<class 'pandas.core.frame.DataFrame'>\n",
      "RangeIndex: 22945 entries, 0 to 22944\n",
      "Data columns (total 3 columns):\n",
      " #   Column         Non-Null Count  Dtype         \n",
      "---  ------         --------------  -----         \n",
      " 0   pizza_name_id  22945 non-null  object        \n",
      " 1   order_date     22945 non-null  datetime64[ns]\n",
      " 2   daily_sales    22945 non-null  int64         \n",
      "dtypes: datetime64[ns](1), int64(1), object(1)\n",
      "memory usage: 537.9+ KB\n"
     ]
    }
   ],
   "source": [
    "daily_sales.info()"
   ]
  },
  {
   "cell_type": "code",
   "execution_count": 15,
   "metadata": {},
   "outputs": [
    {
     "name": "stdout",
     "output_type": "stream",
     "text": [
      "Training model for pizza: bbq_ckn_l\n"
     ]
    },
    {
     "name": "stderr",
     "output_type": "stream",
     "text": [
      "13:15:40 - cmdstanpy - INFO - Chain [1] start processing\n",
      "13:15:40 - cmdstanpy - INFO - Chain [1] done processing\n",
      "13:15:41 - cmdstanpy - INFO - Chain [1] start processing\n"
     ]
    },
    {
     "name": "stdout",
     "output_type": "stream",
     "text": [
      "Training model for pizza: bbq_ckn_m\n"
     ]
    },
    {
     "name": "stderr",
     "output_type": "stream",
     "text": [
      "13:15:41 - cmdstanpy - INFO - Chain [1] done processing\n",
      "13:15:41 - cmdstanpy - INFO - Chain [1] start processing\n",
      "13:15:41 - cmdstanpy - INFO - Chain [1] done processing\n"
     ]
    },
    {
     "name": "stdout",
     "output_type": "stream",
     "text": [
      "Training model for pizza: bbq_ckn_s\n"
     ]
    },
    {
     "name": "stderr",
     "output_type": "stream",
     "text": [
      "13:15:41 - cmdstanpy - INFO - Chain [1] start processing\n",
      "13:15:41 - cmdstanpy - INFO - Chain [1] done processing\n"
     ]
    },
    {
     "name": "stdout",
     "output_type": "stream",
     "text": [
      "Training model for pizza: big_meat_s\n"
     ]
    },
    {
     "name": "stderr",
     "output_type": "stream",
     "text": [
      "13:15:41 - cmdstanpy - INFO - Chain [1] start processing\n",
      "13:15:41 - cmdstanpy - INFO - Chain [1] done processing\n"
     ]
    },
    {
     "name": "stdout",
     "output_type": "stream",
     "text": [
      "Training model for pizza: brie_carre_s\n"
     ]
    },
    {
     "name": "stderr",
     "output_type": "stream",
     "text": [
      "13:15:42 - cmdstanpy - INFO - Chain [1] start processing\n",
      "13:15:42 - cmdstanpy - INFO - Chain [1] done processing\n"
     ]
    },
    {
     "name": "stdout",
     "output_type": "stream",
     "text": [
      "Training model for pizza: calabrese_l\n"
     ]
    },
    {
     "name": "stderr",
     "output_type": "stream",
     "text": [
      "13:15:42 - cmdstanpy - INFO - Chain [1] start processing\n",
      "13:15:42 - cmdstanpy - INFO - Chain [1] done processing\n"
     ]
    },
    {
     "name": "stdout",
     "output_type": "stream",
     "text": [
      "Training model for pizza: calabrese_m\n"
     ]
    },
    {
     "name": "stderr",
     "output_type": "stream",
     "text": [
      "13:15:42 - cmdstanpy - INFO - Chain [1] start processing\n"
     ]
    },
    {
     "name": "stdout",
     "output_type": "stream",
     "text": [
      "Training model for pizza: calabrese_s\n"
     ]
    },
    {
     "name": "stderr",
     "output_type": "stream",
     "text": [
      "13:15:42 - cmdstanpy - INFO - Chain [1] done processing\n",
      "13:15:42 - cmdstanpy - INFO - Chain [1] start processing\n",
      "13:15:42 - cmdstanpy - INFO - Chain [1] done processing\n"
     ]
    },
    {
     "name": "stdout",
     "output_type": "stream",
     "text": [
      "Training model for pizza: cali_ckn_l\n"
     ]
    },
    {
     "name": "stderr",
     "output_type": "stream",
     "text": [
      "13:15:43 - cmdstanpy - INFO - Chain [1] start processing\n",
      "13:15:43 - cmdstanpy - INFO - Chain [1] done processing\n"
     ]
    },
    {
     "name": "stdout",
     "output_type": "stream",
     "text": [
      "Training model for pizza: cali_ckn_m\n"
     ]
    },
    {
     "name": "stderr",
     "output_type": "stream",
     "text": [
      "13:15:43 - cmdstanpy - INFO - Chain [1] start processing\n"
     ]
    },
    {
     "name": "stdout",
     "output_type": "stream",
     "text": [
      "Training model for pizza: cali_ckn_s\n"
     ]
    },
    {
     "name": "stderr",
     "output_type": "stream",
     "text": [
      "13:15:43 - cmdstanpy - INFO - Chain [1] done processing\n",
      "13:15:43 - cmdstanpy - INFO - Chain [1] start processing\n",
      "13:15:43 - cmdstanpy - INFO - Chain [1] done processing\n"
     ]
    },
    {
     "name": "stdout",
     "output_type": "stream",
     "text": [
      "Training model for pizza: ckn_alfredo_l\n"
     ]
    },
    {
     "name": "stderr",
     "output_type": "stream",
     "text": [
      "13:15:43 - cmdstanpy - INFO - Chain [1] start processing\n",
      "13:15:44 - cmdstanpy - INFO - Chain [1] done processing\n"
     ]
    },
    {
     "name": "stdout",
     "output_type": "stream",
     "text": [
      "Training model for pizza: ckn_alfredo_m\n"
     ]
    },
    {
     "name": "stderr",
     "output_type": "stream",
     "text": [
      "13:15:44 - cmdstanpy - INFO - Chain [1] start processing\n"
     ]
    },
    {
     "name": "stdout",
     "output_type": "stream",
     "text": [
      "Training model for pizza: ckn_alfredo_s\n"
     ]
    },
    {
     "name": "stderr",
     "output_type": "stream",
     "text": [
      "13:15:45 - cmdstanpy - INFO - Chain [1] done processing\n",
      "13:15:45 - cmdstanpy - INFO - Chain [1] start processing\n",
      "13:15:45 - cmdstanpy - INFO - Chain [1] done processing\n"
     ]
    },
    {
     "name": "stdout",
     "output_type": "stream",
     "text": [
      "Training model for pizza: ckn_pesto_l\n"
     ]
    },
    {
     "name": "stderr",
     "output_type": "stream",
     "text": [
      "13:15:46 - cmdstanpy - INFO - Chain [1] start processing\n",
      "13:15:46 - cmdstanpy - INFO - Chain [1] done processing\n"
     ]
    },
    {
     "name": "stdout",
     "output_type": "stream",
     "text": [
      "Training model for pizza: ckn_pesto_m\n"
     ]
    },
    {
     "name": "stderr",
     "output_type": "stream",
     "text": [
      "13:15:46 - cmdstanpy - INFO - Chain [1] start processing\n",
      "13:15:46 - cmdstanpy - INFO - Chain [1] done processing\n"
     ]
    },
    {
     "name": "stdout",
     "output_type": "stream",
     "text": [
      "Training model for pizza: ckn_pesto_s\n"
     ]
    },
    {
     "name": "stderr",
     "output_type": "stream",
     "text": [
      "13:15:46 - cmdstanpy - INFO - Chain [1] start processing\n",
      "13:15:46 - cmdstanpy - INFO - Chain [1] done processing\n"
     ]
    },
    {
     "name": "stdout",
     "output_type": "stream",
     "text": [
      "Training model for pizza: classic_dlx_l\n"
     ]
    },
    {
     "name": "stderr",
     "output_type": "stream",
     "text": [
      "13:15:46 - cmdstanpy - INFO - Chain [1] start processing\n",
      "13:15:46 - cmdstanpy - INFO - Chain [1] done processing\n"
     ]
    },
    {
     "name": "stdout",
     "output_type": "stream",
     "text": [
      "Training model for pizza: classic_dlx_m\n"
     ]
    },
    {
     "name": "stderr",
     "output_type": "stream",
     "text": [
      "13:15:47 - cmdstanpy - INFO - Chain [1] start processing\n"
     ]
    },
    {
     "name": "stdout",
     "output_type": "stream",
     "text": [
      "Training model for pizza: classic_dlx_s\n"
     ]
    },
    {
     "name": "stderr",
     "output_type": "stream",
     "text": [
      "13:15:47 - cmdstanpy - INFO - Chain [1] done processing\n",
      "13:15:47 - cmdstanpy - INFO - Chain [1] start processing\n",
      "13:15:47 - cmdstanpy - INFO - Chain [1] done processing\n"
     ]
    },
    {
     "name": "stdout",
     "output_type": "stream",
     "text": [
      "Training model for pizza: five_cheese_l\n"
     ]
    },
    {
     "name": "stderr",
     "output_type": "stream",
     "text": [
      "13:15:47 - cmdstanpy - INFO - Chain [1] start processing\n"
     ]
    },
    {
     "name": "stdout",
     "output_type": "stream",
     "text": [
      "Training model for pizza: four_cheese_l\n"
     ]
    },
    {
     "name": "stderr",
     "output_type": "stream",
     "text": [
      "13:15:47 - cmdstanpy - INFO - Chain [1] done processing\n",
      "13:15:47 - cmdstanpy - INFO - Chain [1] start processing\n",
      "13:15:48 - cmdstanpy - INFO - Chain [1] done processing\n"
     ]
    },
    {
     "name": "stdout",
     "output_type": "stream",
     "text": [
      "Training model for pizza: four_cheese_m\n"
     ]
    },
    {
     "name": "stderr",
     "output_type": "stream",
     "text": [
      "13:15:48 - cmdstanpy - INFO - Chain [1] start processing\n"
     ]
    },
    {
     "name": "stdout",
     "output_type": "stream",
     "text": [
      "Training model for pizza: green_garden_l\n"
     ]
    },
    {
     "name": "stderr",
     "output_type": "stream",
     "text": [
      "13:15:48 - cmdstanpy - INFO - Chain [1] done processing\n",
      "13:15:48 - cmdstanpy - INFO - Chain [1] start processing\n",
      "13:15:48 - cmdstanpy - INFO - Chain [1] done processing\n"
     ]
    },
    {
     "name": "stdout",
     "output_type": "stream",
     "text": [
      "Training model for pizza: green_garden_m\n"
     ]
    },
    {
     "name": "stderr",
     "output_type": "stream",
     "text": [
      "13:15:48 - cmdstanpy - INFO - Chain [1] start processing\n"
     ]
    },
    {
     "name": "stdout",
     "output_type": "stream",
     "text": [
      "Training model for pizza: green_garden_s\n"
     ]
    },
    {
     "name": "stderr",
     "output_type": "stream",
     "text": [
      "13:15:48 - cmdstanpy - INFO - Chain [1] done processing\n",
      "13:15:49 - cmdstanpy - INFO - Chain [1] start processing\n",
      "13:15:49 - cmdstanpy - INFO - Chain [1] done processing\n"
     ]
    },
    {
     "name": "stdout",
     "output_type": "stream",
     "text": [
      "Training model for pizza: hawaiian_l\n"
     ]
    },
    {
     "name": "stderr",
     "output_type": "stream",
     "text": [
      "13:15:49 - cmdstanpy - INFO - Chain [1] start processing\n",
      "13:15:49 - cmdstanpy - INFO - Chain [1] done processing\n"
     ]
    },
    {
     "name": "stdout",
     "output_type": "stream",
     "text": [
      "Training model for pizza: hawaiian_m\n"
     ]
    },
    {
     "name": "stderr",
     "output_type": "stream",
     "text": [
      "13:15:49 - cmdstanpy - INFO - Chain [1] start processing\n",
      "13:15:49 - cmdstanpy - INFO - Chain [1] done processing\n"
     ]
    },
    {
     "name": "stdout",
     "output_type": "stream",
     "text": [
      "Training model for pizza: hawaiian_s\n"
     ]
    },
    {
     "name": "stderr",
     "output_type": "stream",
     "text": [
      "13:15:49 - cmdstanpy - INFO - Chain [1] start processing\n",
      "13:15:49 - cmdstanpy - INFO - Chain [1] done processing\n"
     ]
    },
    {
     "name": "stdout",
     "output_type": "stream",
     "text": [
      "Training model for pizza: ital_cpcllo_l\n"
     ]
    },
    {
     "name": "stderr",
     "output_type": "stream",
     "text": [
      "13:15:50 - cmdstanpy - INFO - Chain [1] start processing\n",
      "13:15:50 - cmdstanpy - INFO - Chain [1] done processing\n"
     ]
    },
    {
     "name": "stdout",
     "output_type": "stream",
     "text": [
      "Training model for pizza: ital_cpcllo_m\n"
     ]
    },
    {
     "name": "stderr",
     "output_type": "stream",
     "text": [
      "13:15:50 - cmdstanpy - INFO - Chain [1] start processing\n",
      "13:15:50 - cmdstanpy - INFO - Chain [1] done processing\n"
     ]
    },
    {
     "name": "stdout",
     "output_type": "stream",
     "text": [
      "Training model for pizza: ital_cpcllo_s\n"
     ]
    },
    {
     "name": "stderr",
     "output_type": "stream",
     "text": [
      "13:15:50 - cmdstanpy - INFO - Chain [1] start processing\n",
      "13:15:50 - cmdstanpy - INFO - Chain [1] done processing\n"
     ]
    },
    {
     "name": "stdout",
     "output_type": "stream",
     "text": [
      "Training model for pizza: ital_supr_l\n"
     ]
    },
    {
     "name": "stderr",
     "output_type": "stream",
     "text": [
      "13:15:50 - cmdstanpy - INFO - Chain [1] start processing\n"
     ]
    },
    {
     "name": "stdout",
     "output_type": "stream",
     "text": [
      "Training model for pizza: ital_supr_m\n"
     ]
    },
    {
     "name": "stderr",
     "output_type": "stream",
     "text": [
      "13:15:51 - cmdstanpy - INFO - Chain [1] done processing\n",
      "13:15:51 - cmdstanpy - INFO - Chain [1] start processing\n",
      "13:15:51 - cmdstanpy - INFO - Chain [1] done processing\n"
     ]
    },
    {
     "name": "stdout",
     "output_type": "stream",
     "text": [
      "Training model for pizza: ital_supr_s\n",
      "Training model for pizza: ital_veggie_l\n"
     ]
    },
    {
     "name": "stderr",
     "output_type": "stream",
     "text": [
      "13:15:51 - cmdstanpy - INFO - Chain [1] start processing\n",
      "13:15:51 - cmdstanpy - INFO - Chain [1] done processing\n"
     ]
    },
    {
     "name": "stdout",
     "output_type": "stream",
     "text": [
      "Training model for pizza: ital_veggie_m\n"
     ]
    },
    {
     "name": "stderr",
     "output_type": "stream",
     "text": [
      "13:15:52 - cmdstanpy - INFO - Chain [1] start processing\n",
      "13:15:52 - cmdstanpy - INFO - Chain [1] done processing\n",
      "13:15:52 - cmdstanpy - INFO - Chain [1] start processing\n",
      "13:15:52 - cmdstanpy - INFO - Chain [1] done processing\n"
     ]
    },
    {
     "name": "stdout",
     "output_type": "stream",
     "text": [
      "Training model for pizza: ital_veggie_s\n"
     ]
    },
    {
     "name": "stderr",
     "output_type": "stream",
     "text": [
      "13:15:52 - cmdstanpy - INFO - Chain [1] start processing\n",
      "13:15:52 - cmdstanpy - INFO - Chain [1] done processing\n"
     ]
    },
    {
     "name": "stdout",
     "output_type": "stream",
     "text": [
      "Training model for pizza: mediterraneo_l\n"
     ]
    },
    {
     "name": "stderr",
     "output_type": "stream",
     "text": [
      "13:15:52 - cmdstanpy - INFO - Chain [1] start processing\n",
      "13:15:52 - cmdstanpy - INFO - Chain [1] done processing\n"
     ]
    },
    {
     "name": "stdout",
     "output_type": "stream",
     "text": [
      "Training model for pizza: mediterraneo_m\n"
     ]
    },
    {
     "name": "stderr",
     "output_type": "stream",
     "text": [
      "13:15:53 - cmdstanpy - INFO - Chain [1] start processing\n",
      "13:15:53 - cmdstanpy - INFO - Chain [1] done processing\n"
     ]
    },
    {
     "name": "stdout",
     "output_type": "stream",
     "text": [
      "Training model for pizza: mediterraneo_s\n"
     ]
    },
    {
     "name": "stderr",
     "output_type": "stream",
     "text": [
      "13:15:53 - cmdstanpy - INFO - Chain [1] start processing\n",
      "13:15:53 - cmdstanpy - INFO - Chain [1] done processing\n"
     ]
    },
    {
     "name": "stdout",
     "output_type": "stream",
     "text": [
      "Training model for pizza: mexicana_l\n"
     ]
    },
    {
     "name": "stderr",
     "output_type": "stream",
     "text": [
      "13:15:53 - cmdstanpy - INFO - Chain [1] start processing\n",
      "13:15:53 - cmdstanpy - INFO - Chain [1] done processing\n"
     ]
    },
    {
     "name": "stdout",
     "output_type": "stream",
     "text": [
      "Training model for pizza: mexicana_m\n"
     ]
    },
    {
     "name": "stderr",
     "output_type": "stream",
     "text": [
      "13:15:53 - cmdstanpy - INFO - Chain [1] start processing\n",
      "13:15:53 - cmdstanpy - INFO - Chain [1] done processing\n"
     ]
    },
    {
     "name": "stdout",
     "output_type": "stream",
     "text": [
      "Training model for pizza: mexicana_s\n"
     ]
    },
    {
     "name": "stderr",
     "output_type": "stream",
     "text": [
      "13:15:54 - cmdstanpy - INFO - Chain [1] start processing\n",
      "13:15:54 - cmdstanpy - INFO - Chain [1] done processing\n"
     ]
    },
    {
     "name": "stdout",
     "output_type": "stream",
     "text": [
      "Training model for pizza: napolitana_l\n"
     ]
    },
    {
     "name": "stderr",
     "output_type": "stream",
     "text": [
      "13:15:54 - cmdstanpy - INFO - Chain [1] start processing\n",
      "13:15:54 - cmdstanpy - INFO - Chain [1] done processing\n"
     ]
    },
    {
     "name": "stdout",
     "output_type": "stream",
     "text": [
      "Training model for pizza: napolitana_m\n"
     ]
    },
    {
     "name": "stderr",
     "output_type": "stream",
     "text": [
      "13:15:54 - cmdstanpy - INFO - Chain [1] start processing\n",
      "13:15:54 - cmdstanpy - INFO - Chain [1] done processing\n"
     ]
    },
    {
     "name": "stdout",
     "output_type": "stream",
     "text": [
      "Training model for pizza: napolitana_s\n"
     ]
    },
    {
     "name": "stderr",
     "output_type": "stream",
     "text": [
      "13:15:54 - cmdstanpy - INFO - Chain [1] start processing\n",
      "13:15:54 - cmdstanpy - INFO - Chain [1] done processing\n"
     ]
    },
    {
     "name": "stdout",
     "output_type": "stream",
     "text": [
      "Training model for pizza: pep_msh_pep_l\n"
     ]
    },
    {
     "name": "stderr",
     "output_type": "stream",
     "text": [
      "13:15:55 - cmdstanpy - INFO - Chain [1] start processing\n",
      "13:15:55 - cmdstanpy - INFO - Chain [1] done processing\n"
     ]
    },
    {
     "name": "stdout",
     "output_type": "stream",
     "text": [
      "Training model for pizza: pep_msh_pep_m\n"
     ]
    },
    {
     "name": "stderr",
     "output_type": "stream",
     "text": [
      "13:15:55 - cmdstanpy - INFO - Chain [1] start processing\n",
      "13:15:55 - cmdstanpy - INFO - Chain [1] done processing\n"
     ]
    },
    {
     "name": "stdout",
     "output_type": "stream",
     "text": [
      "Training model for pizza: pep_msh_pep_s\n"
     ]
    },
    {
     "name": "stderr",
     "output_type": "stream",
     "text": [
      "13:15:55 - cmdstanpy - INFO - Chain [1] start processing\n",
      "13:15:55 - cmdstanpy - INFO - Chain [1] done processing\n"
     ]
    },
    {
     "name": "stdout",
     "output_type": "stream",
     "text": [
      "Training model for pizza: pepperoni_l\n"
     ]
    },
    {
     "name": "stderr",
     "output_type": "stream",
     "text": [
      "13:15:55 - cmdstanpy - INFO - Chain [1] start processing\n"
     ]
    },
    {
     "name": "stdout",
     "output_type": "stream",
     "text": [
      "Training model for pizza: pepperoni_m\n"
     ]
    },
    {
     "name": "stderr",
     "output_type": "stream",
     "text": [
      "13:15:55 - cmdstanpy - INFO - Chain [1] done processing\n",
      "13:15:56 - cmdstanpy - INFO - Chain [1] start processing\n",
      "13:15:56 - cmdstanpy - INFO - Chain [1] done processing\n"
     ]
    },
    {
     "name": "stdout",
     "output_type": "stream",
     "text": [
      "Training model for pizza: pepperoni_s\n"
     ]
    },
    {
     "name": "stderr",
     "output_type": "stream",
     "text": [
      "13:15:56 - cmdstanpy - INFO - Chain [1] start processing\n",
      "13:15:56 - cmdstanpy - INFO - Chain [1] done processing\n"
     ]
    },
    {
     "name": "stdout",
     "output_type": "stream",
     "text": [
      "Training model for pizza: peppr_salami_l\n"
     ]
    },
    {
     "name": "stderr",
     "output_type": "stream",
     "text": [
      "13:15:56 - cmdstanpy - INFO - Chain [1] start processing\n",
      "13:15:56 - cmdstanpy - INFO - Chain [1] done processing\n"
     ]
    },
    {
     "name": "stdout",
     "output_type": "stream",
     "text": [
      "Training model for pizza: peppr_salami_m\n"
     ]
    },
    {
     "name": "stderr",
     "output_type": "stream",
     "text": [
      "13:15:56 - cmdstanpy - INFO - Chain [1] start processing\n",
      "13:15:57 - cmdstanpy - INFO - Chain [1] done processing\n"
     ]
    },
    {
     "name": "stdout",
     "output_type": "stream",
     "text": [
      "Training model for pizza: peppr_salami_s\n"
     ]
    },
    {
     "name": "stderr",
     "output_type": "stream",
     "text": [
      "13:15:57 - cmdstanpy - INFO - Chain [1] start processing\n",
      "13:15:57 - cmdstanpy - INFO - Chain [1] done processing\n"
     ]
    },
    {
     "name": "stdout",
     "output_type": "stream",
     "text": [
      "Training model for pizza: prsc_argla_l\n"
     ]
    },
    {
     "name": "stderr",
     "output_type": "stream",
     "text": [
      "13:15:57 - cmdstanpy - INFO - Chain [1] start processing\n",
      "13:15:57 - cmdstanpy - INFO - Chain [1] done processing\n"
     ]
    },
    {
     "name": "stdout",
     "output_type": "stream",
     "text": [
      "Training model for pizza: prsc_argla_m\n"
     ]
    },
    {
     "name": "stderr",
     "output_type": "stream",
     "text": [
      "13:15:57 - cmdstanpy - INFO - Chain [1] start processing\n",
      "13:15:57 - cmdstanpy - INFO - Chain [1] done processing\n"
     ]
    },
    {
     "name": "stdout",
     "output_type": "stream",
     "text": [
      "Training model for pizza: prsc_argla_s\n"
     ]
    },
    {
     "name": "stderr",
     "output_type": "stream",
     "text": [
      "13:15:57 - cmdstanpy - INFO - Chain [1] start processing\n",
      "13:15:58 - cmdstanpy - INFO - Chain [1] done processing\n"
     ]
    },
    {
     "name": "stdout",
     "output_type": "stream",
     "text": [
      "Training model for pizza: sicilian_l\n"
     ]
    },
    {
     "name": "stderr",
     "output_type": "stream",
     "text": [
      "13:15:58 - cmdstanpy - INFO - Chain [1] start processing\n",
      "13:15:58 - cmdstanpy - INFO - Chain [1] done processing\n"
     ]
    },
    {
     "name": "stdout",
     "output_type": "stream",
     "text": [
      "Training model for pizza: sicilian_m\n"
     ]
    },
    {
     "name": "stderr",
     "output_type": "stream",
     "text": [
      "13:15:58 - cmdstanpy - INFO - Chain [1] start processing\n",
      "13:15:58 - cmdstanpy - INFO - Chain [1] done processing\n"
     ]
    },
    {
     "name": "stdout",
     "output_type": "stream",
     "text": [
      "Training model for pizza: sicilian_s\n"
     ]
    },
    {
     "name": "stderr",
     "output_type": "stream",
     "text": [
      "13:15:58 - cmdstanpy - INFO - Chain [1] start processing\n"
     ]
    },
    {
     "name": "stdout",
     "output_type": "stream",
     "text": [
      "Training model for pizza: soppressata_l\n"
     ]
    },
    {
     "name": "stderr",
     "output_type": "stream",
     "text": [
      "13:15:58 - cmdstanpy - INFO - Chain [1] done processing\n",
      "13:15:59 - cmdstanpy - INFO - Chain [1] start processing\n",
      "13:15:59 - cmdstanpy - INFO - Chain [1] done processing\n"
     ]
    },
    {
     "name": "stdout",
     "output_type": "stream",
     "text": [
      "Training model for pizza: soppressata_m\n"
     ]
    },
    {
     "name": "stderr",
     "output_type": "stream",
     "text": [
      "13:15:59 - cmdstanpy - INFO - Chain [1] start processing\n",
      "13:15:59 - cmdstanpy - INFO - Chain [1] done processing\n"
     ]
    },
    {
     "name": "stdout",
     "output_type": "stream",
     "text": [
      "Training model for pizza: soppressata_s\n"
     ]
    },
    {
     "name": "stderr",
     "output_type": "stream",
     "text": [
      "13:15:59 - cmdstanpy - INFO - Chain [1] start processing\n",
      "13:15:59 - cmdstanpy - INFO - Chain [1] done processing\n"
     ]
    },
    {
     "name": "stdout",
     "output_type": "stream",
     "text": [
      "Training model for pizza: southw_ckn_l\n"
     ]
    },
    {
     "name": "stderr",
     "output_type": "stream",
     "text": [
      "13:15:59 - cmdstanpy - INFO - Chain [1] start processing\n",
      "13:15:59 - cmdstanpy - INFO - Chain [1] done processing\n"
     ]
    },
    {
     "name": "stdout",
     "output_type": "stream",
     "text": [
      "Training model for pizza: southw_ckn_m\n"
     ]
    },
    {
     "name": "stderr",
     "output_type": "stream",
     "text": [
      "13:16:00 - cmdstanpy - INFO - Chain [1] start processing\n",
      "13:16:00 - cmdstanpy - INFO - Chain [1] done processing\n"
     ]
    },
    {
     "name": "stdout",
     "output_type": "stream",
     "text": [
      "Training model for pizza: southw_ckn_s\n"
     ]
    },
    {
     "name": "stderr",
     "output_type": "stream",
     "text": [
      "13:16:00 - cmdstanpy - INFO - Chain [1] start processing\n",
      "13:16:00 - cmdstanpy - INFO - Chain [1] done processing\n"
     ]
    },
    {
     "name": "stdout",
     "output_type": "stream",
     "text": [
      "Training model for pizza: spicy_ital_l\n"
     ]
    },
    {
     "name": "stderr",
     "output_type": "stream",
     "text": [
      "13:16:00 - cmdstanpy - INFO - Chain [1] start processing\n"
     ]
    },
    {
     "name": "stdout",
     "output_type": "stream",
     "text": [
      "Training model for pizza: spicy_ital_m\n"
     ]
    },
    {
     "name": "stderr",
     "output_type": "stream",
     "text": [
      "13:16:00 - cmdstanpy - INFO - Chain [1] done processing\n",
      "13:16:00 - cmdstanpy - INFO - Chain [1] start processing\n"
     ]
    },
    {
     "name": "stdout",
     "output_type": "stream",
     "text": [
      "Training model for pizza: spicy_ital_s\n"
     ]
    },
    {
     "name": "stderr",
     "output_type": "stream",
     "text": [
      "13:16:01 - cmdstanpy - INFO - Chain [1] done processing\n",
      "13:16:01 - cmdstanpy - INFO - Chain [1] start processing\n",
      "13:16:01 - cmdstanpy - INFO - Chain [1] done processing\n"
     ]
    },
    {
     "name": "stdout",
     "output_type": "stream",
     "text": [
      "Training model for pizza: spin_pesto_l\n"
     ]
    },
    {
     "name": "stderr",
     "output_type": "stream",
     "text": [
      "13:16:01 - cmdstanpy - INFO - Chain [1] start processing\n",
      "13:16:01 - cmdstanpy - INFO - Chain [1] done processing\n"
     ]
    },
    {
     "name": "stdout",
     "output_type": "stream",
     "text": [
      "Training model for pizza: spin_pesto_m\n",
      "Training model for pizza: spin_pesto_s\n"
     ]
    },
    {
     "name": "stderr",
     "output_type": "stream",
     "text": [
      "13:16:01 - cmdstanpy - INFO - Chain [1] start processing\n",
      "13:16:01 - cmdstanpy - INFO - Chain [1] done processing\n",
      "13:16:01 - cmdstanpy - INFO - Chain [1] start processing\n",
      "13:16:01 - cmdstanpy - INFO - Chain [1] done processing\n"
     ]
    },
    {
     "name": "stdout",
     "output_type": "stream",
     "text": [
      "Training model for pizza: spinach_fet_l\n"
     ]
    },
    {
     "name": "stderr",
     "output_type": "stream",
     "text": [
      "13:16:02 - cmdstanpy - INFO - Chain [1] start processing\n",
      "13:16:02 - cmdstanpy - INFO - Chain [1] done processing\n"
     ]
    },
    {
     "name": "stdout",
     "output_type": "stream",
     "text": [
      "Training model for pizza: spinach_fet_m\n"
     ]
    },
    {
     "name": "stderr",
     "output_type": "stream",
     "text": [
      "13:16:02 - cmdstanpy - INFO - Chain [1] start processing\n",
      "13:16:02 - cmdstanpy - INFO - Chain [1] done processing\n"
     ]
    },
    {
     "name": "stdout",
     "output_type": "stream",
     "text": [
      "Training model for pizza: spinach_fet_s\n"
     ]
    },
    {
     "name": "stderr",
     "output_type": "stream",
     "text": [
      "13:16:02 - cmdstanpy - INFO - Chain [1] start processing\n",
      "13:16:02 - cmdstanpy - INFO - Chain [1] done processing\n"
     ]
    },
    {
     "name": "stdout",
     "output_type": "stream",
     "text": [
      "Training model for pizza: spinach_supr_l\n"
     ]
    },
    {
     "name": "stderr",
     "output_type": "stream",
     "text": [
      "13:16:02 - cmdstanpy - INFO - Chain [1] start processing\n",
      "13:16:02 - cmdstanpy - INFO - Chain [1] done processing\n"
     ]
    },
    {
     "name": "stdout",
     "output_type": "stream",
     "text": [
      "Training model for pizza: spinach_supr_m\n",
      "Training model for pizza: spinach_supr_s\n"
     ]
    },
    {
     "name": "stderr",
     "output_type": "stream",
     "text": [
      "13:16:03 - cmdstanpy - INFO - Chain [1] start processing\n",
      "13:16:03 - cmdstanpy - INFO - Chain [1] done processing\n",
      "13:16:03 - cmdstanpy - INFO - Chain [1] start processing\n",
      "13:16:03 - cmdstanpy - INFO - Chain [1] done processing\n"
     ]
    },
    {
     "name": "stdout",
     "output_type": "stream",
     "text": [
      "Training model for pizza: thai_ckn_l\n"
     ]
    },
    {
     "name": "stderr",
     "output_type": "stream",
     "text": [
      "13:16:03 - cmdstanpy - INFO - Chain [1] start processing\n",
      "13:16:03 - cmdstanpy - INFO - Chain [1] done processing\n"
     ]
    },
    {
     "name": "stdout",
     "output_type": "stream",
     "text": [
      "Training model for pizza: thai_ckn_m\n"
     ]
    },
    {
     "name": "stderr",
     "output_type": "stream",
     "text": [
      "13:16:03 - cmdstanpy - INFO - Chain [1] start processing\n",
      "13:16:04 - cmdstanpy - INFO - Chain [1] done processing\n"
     ]
    },
    {
     "name": "stdout",
     "output_type": "stream",
     "text": [
      "Training model for pizza: thai_ckn_s\n"
     ]
    },
    {
     "name": "stderr",
     "output_type": "stream",
     "text": [
      "13:16:04 - cmdstanpy - INFO - Chain [1] start processing\n",
      "13:16:04 - cmdstanpy - INFO - Chain [1] done processing\n"
     ]
    },
    {
     "name": "stdout",
     "output_type": "stream",
     "text": [
      "Training model for pizza: the_greek_l\n"
     ]
    },
    {
     "name": "stderr",
     "output_type": "stream",
     "text": [
      "13:16:04 - cmdstanpy - INFO - Chain [1] start processing\n",
      "13:16:04 - cmdstanpy - INFO - Chain [1] done processing\n"
     ]
    },
    {
     "name": "stdout",
     "output_type": "stream",
     "text": [
      "Training model for pizza: the_greek_m\n"
     ]
    },
    {
     "name": "stderr",
     "output_type": "stream",
     "text": [
      "13:16:04 - cmdstanpy - INFO - Chain [1] start processing\n",
      "13:16:04 - cmdstanpy - INFO - Chain [1] done processing\n"
     ]
    },
    {
     "name": "stdout",
     "output_type": "stream",
     "text": [
      "Training model for pizza: the_greek_s\n"
     ]
    },
    {
     "name": "stderr",
     "output_type": "stream",
     "text": [
      "13:16:04 - cmdstanpy - INFO - Chain [1] start processing\n",
      "13:16:04 - cmdstanpy - INFO - Chain [1] done processing\n"
     ]
    },
    {
     "name": "stdout",
     "output_type": "stream",
     "text": [
      "Training model for pizza: the_greek_xl\n",
      "Training model for pizza: the_greek_xxl\n",
      "Training model for pizza: veggie_veg_l\n"
     ]
    },
    {
     "name": "stderr",
     "output_type": "stream",
     "text": [
      "13:16:05 - cmdstanpy - INFO - Chain [1] start processing\n",
      "13:16:05 - cmdstanpy - INFO - Chain [1] done processing\n",
      "13:16:05 - cmdstanpy - INFO - Chain [1] start processing\n",
      "13:16:05 - cmdstanpy - INFO - Chain [1] done processing\n"
     ]
    },
    {
     "name": "stdout",
     "output_type": "stream",
     "text": [
      "Training model for pizza: veggie_veg_m\n"
     ]
    },
    {
     "name": "stderr",
     "output_type": "stream",
     "text": [
      "13:16:05 - cmdstanpy - INFO - Chain [1] start processing\n",
      "13:16:05 - cmdstanpy - INFO - Chain [1] done processing\n"
     ]
    },
    {
     "name": "stdout",
     "output_type": "stream",
     "text": [
      "Training model for pizza: veggie_veg_s\n",
      "Forecasting completed. Results saved to 'all_pizza_forecasts.csv'.\n"
     ]
    }
   ],
   "source": [
    "from prophet import Prophet\n",
    "data = daily_sales\n",
    "forecast_results = pd.DataFrame()\n",
    "\n",
    "# Get unique pizza_name_ids\n",
    "pizza_ids = data['pizza_name_id'].unique()\n",
    "\n",
    "# Loop through each pizza_name_id\n",
    "for pizza_id in pizza_ids:\n",
    "    print(f\"Training model for pizza: {pizza_id}\")\n",
    "    \n",
    "    # Filter data for the specific pizza\n",
    "    pizza_data = data[data['pizza_name_id'] == pizza_id]\n",
    "    \n",
    "    # Prepare the data for Prophet\n",
    "    pizza_data = pizza_data.rename(columns={'order_date': 'ds', 'daily_sales': 'y'})\n",
    "    \n",
    "    # Initialize the Prophet model\n",
    "    model = Prophet(yearly_seasonality=True, daily_seasonality=False)\n",
    "    model.fit(pizza_data)\n",
    "    \n",
    "    # Create a DataFrame for future dates (e.g., next 7 days)\n",
    "    future_dates = model.make_future_dataframe(periods=7)\n",
    "    \n",
    "    # Forecast sales\n",
    "    forecast = model.predict(future_dates)\n",
    "    \n",
    "    # Add the pizza_name_id to the forecast\n",
    "    forecast['pizza_name_id'] = pizza_id\n",
    "    \n",
    "    # Append the results to the forecast_results DataFrame\n",
    "    forecast_results = pd.concat([forecast_results, forecast[['ds', 'yhat', 'pizza_name_id']]])\n",
    "    \n",
    "    # Optional: Save individual pizza forecast as CSV\n",
    "    forecast[['ds', 'yhat']].to_csv(f'forecast_{pizza_id}.csv', index=False)\n",
    "\n",
    "# Save all forecasts to a CSV\n",
    "forecast_results.to_csv('all_pizza_forecasts.csv', index=False)\n",
    "\n",
    "print(\"Forecasting completed. Results saved to 'all_pizza_forecasts.csv'.\")"
   ]
  },
  {
   "cell_type": "code",
   "execution_count": 18,
   "metadata": {},
   "outputs": [
    {
     "data": {
      "image/png": "[encoded data removed]",
      "text/plain": [
       "<Figure size 1200x600 with 1 Axes>"
      ]
     },
     "metadata": {},
     "output_type": "display_data"
    }
   ],
   "source": [
    "import matplotlib.pyplot as plt\n",
    "\n",
    "def plot_forecast(pizza_data, forecast, pizza_id):\n",
    "    \"\"\"\n",
    "    Plots observed and forecasted sales for a specific pizza type.\n",
    "    \n",
    "    Args:\n",
    "    - pizza_data (DataFrame): Original sales data with columns 'ds' (date) and 'y' (observed sales).\n",
    "    - forecast (DataFrame): Forecasted data with columns 'ds' (date) and 'yhat' (forecasted sales).\n",
    "    - pizza_id (str): Identifier for the pizza type.\n",
    "    \"\"\"\n",
    "    plt.figure(figsize=(12, 6))\n",
    "    # Plot observed sales\n",
    "    plt.plot(pizza_data['ds'], pizza_data['y'], label='Observed Sales', marker='o')\n",
    "    # Plot forecasted sales\n",
    "    plt.plot(forecast['ds'], forecast['yhat'], label='Forecasted Sales', linestyle='--')\n",
    "    # Add a vertical line to indicate the forecast start\n",
    "    plt.axvline(x=pizza_data['ds'].max(), color='red', linestyle='--', label='Forecast Start')\n",
    "    # Titles and labels\n",
    "    plt.title(f'Sales Forecast for Pizza: {pizza_id}')\n",
    "    plt.xlabel('Date')\n",
    "    plt.ylabel('Daily Sales')\n",
    "    plt.legend()\n",
    "    plt.grid()\n",
    "    plt.show()\n",
    "plot_forecast(pizza_data=pizza_data, forecast=forecast, pizza_id=pizza_id)"
   ]
  },
  {
   "cell_type": "code",
   "execution_count": null,
   "metadata": {},
   "outputs": [],
   "source": []
  }
 ],
 "metadata": {
  "kernelspec": {
   "display_name": "env",
   "language": "python",
   "name": "python3"
  },
  "language_info": {
   "codemirror_mode": {
    "name": "ipython",
    "version": 3
   },
   "file_extension": ".py",
   "mimetype": "text/x-python",
   "name": "python",
   "nbconvert_exporter": "python",
   "pygments_lexer": "ipython3",
   "version": "3.12.2"
  }
 },
 "nbformat": 4,
 "nbformat_minor": 2
}
