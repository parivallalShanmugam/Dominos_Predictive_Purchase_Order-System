{
 "cells": [
  {
   "cell_type": "code",
   "execution_count": 2,
   "metadata": {},
   "outputs": [],
   "source": [
    "import pandas as pd\n"
   ]
  },
  {
   "cell_type": "code",
   "execution_count": 6,
   "metadata": {},
   "outputs": [
    {
     "data": {
      "text/plain": [
       "DatetimeIndex(['2024-10-01', '2024-10-02', '2024-10-03', '2024-10-04',\n",
       "               '2024-10-07', '2024-10-08', '2024-10-09', '2024-10-10',\n",
       "               '2024-10-11', '2024-10-14', '2024-10-15', '2024-10-16',\n",
       "               '2024-10-17', '2024-10-18', '2024-10-21', '2024-10-22',\n",
       "               '2024-10-23', '2024-10-24', '2024-10-25', '2024-10-28',\n",
       "               '2024-10-29', '2024-10-30', '2024-10-31'],\n",
       "              dtype='datetime64[ns]', freq='B')"
      ]
     },
     "execution_count": 6,
     "metadata": {},
     "output_type": "execute_result"
    }
   ],
   "source": [
    "rang = pd.date_range(start='2024/10/01', end='2024/10/31',freq='B')\n",
    "rang"
   ]
  },
  {
   "cell_type": "code",
   "execution_count": 8,
   "metadata": {},
   "outputs": [
    {
     "name": "stderr",
     "output_type": "stream",
     "text": [
      "C:\\Users\\New\\AppData\\Local\\Temp\\ipykernel_14764\\864142981.py:1: FutureWarning: 'w' is deprecated and will be removed in a future version, please use 'W' instead.\n",
      "  rag = pd.date_range(start='2024/01/01',periods=23,freq='w')\n"
     ]
    },
    {
     "data": {
      "text/plain": [
       "DatetimeIndex(['2024-01-07', '2024-01-14', '2024-01-21', '2024-01-28',\n",
       "               '2024-02-04', '2024-02-11', '2024-02-18', '2024-02-25',\n",
       "               '2024-03-03', '2024-03-10', '2024-03-17', '2024-03-24',\n",
       "               '2024-03-31', '2024-04-07', '2024-04-14', '2024-04-21',\n",
       "               '2024-04-28', '2024-05-05', '2024-05-12', '2024-05-19',\n",
       "               '2024-05-26', '2024-06-02', '2024-06-09'],\n",
       "              dtype='datetime64[ns]', freq='W-SUN')"
      ]
     },
     "execution_count": 8,
     "metadata": {},
     "output_type": "execute_result"
    }
   ],
   "source": [
    "rag = pd.date_range(start='2024/01/01',periods=23,freq='w')\n",
    "rag"
   ]
  },
  {
   "cell_type": "code",
   "execution_count": 9,
   "metadata": {},
   "outputs": [
    {
     "data": {
      "text/plain": [
       "2024-01-07    8\n",
       "2024-01-14    9\n",
       "2024-01-21    8\n",
       "2024-01-28    1\n",
       "2024-02-04    4\n",
       "2024-02-11    3\n",
       "2024-02-18    2\n",
       "2024-02-25    5\n",
       "2024-03-03    3\n",
       "2024-03-10    8\n",
       "2024-03-17    9\n",
       "2024-03-24    4\n",
       "2024-03-31    2\n",
       "2024-04-07    4\n",
       "2024-04-14    9\n",
       "2024-04-21    9\n",
       "2024-04-28    5\n",
       "2024-05-05    8\n",
       "2024-05-12    3\n",
       "2024-05-19    8\n",
       "2024-05-26    6\n",
       "2024-06-02    1\n",
       "2024-06-09    6\n",
       "Freq: W-SUN, dtype: int32"
      ]
     },
     "execution_count": 9,
     "metadata": {},
     "output_type": "execute_result"
    }
   ],
   "source": [
    "import numpy as np\n",
    "ts = pd.Series(np.random.randint(1,10,len(rag)),index=rag)\n",
    "ts\n"
   ]
  },
  {
   "cell_type": "code",
   "execution_count": 2,
   "metadata": {},
   "outputs": [],
   "source": [
    "df =pd.read_csv('sale_of_shampoo.csv')"
   ]
  },
  {
   "cell_type": "code",
   "execution_count": 3,
   "metadata": {},
   "outputs": [
    {
     "data": {
      "text/html": [
       "<div>\n",
       "<style scoped>\n",
       "    .dataframe tbody tr th:only-of-type {\n",
       "        vertical-align: middle;\n",
       "    }\n",
       "\n",
       "    .dataframe tbody tr th {\n",
       "        vertical-align: top;\n",
       "    }\n",
       "\n",
       "    .dataframe thead th {\n",
       "        text-align: right;\n",
       "    }\n",
       "</style>\n",
       "<table border=\"1\" class=\"dataframe\">\n",
       "  <thead>\n",
       "    <tr style=\"text-align: right;\">\n",
       "      <th></th>\n",
       "      <th>Month</th>\n",
       "      <th>Sales of shampoo over a three year period</th>\n",
       "    </tr>\n",
       "  </thead>\n",
       "  <tbody>\n",
       "    <tr>\n",
       "      <th>0</th>\n",
       "      <td>1-Jan</td>\n",
       "      <td>266.0</td>\n",
       "    </tr>\n",
       "    <tr>\n",
       "      <th>1</th>\n",
       "      <td>1-Feb</td>\n",
       "      <td>145.9</td>\n",
       "    </tr>\n",
       "    <tr>\n",
       "      <th>2</th>\n",
       "      <td>1-Mar</td>\n",
       "      <td>183.1</td>\n",
       "    </tr>\n",
       "    <tr>\n",
       "      <th>3</th>\n",
       "      <td>1-Apr</td>\n",
       "      <td>119.3</td>\n",
       "    </tr>\n",
       "    <tr>\n",
       "      <th>4</th>\n",
       "      <td>1-May</td>\n",
       "      <td>180.3</td>\n",
       "    </tr>\n",
       "  </tbody>\n",
       "</table>\n",
       "</div>"
      ],
      "text/plain": [
       "   Month  Sales of shampoo over a three year period\n",
       "0  1-Jan                                      266.0\n",
       "1  1-Feb                                      145.9\n",
       "2  1-Mar                                      183.1\n",
       "3  1-Apr                                      119.3\n",
       "4  1-May                                      180.3"
      ]
     },
     "execution_count": 3,
     "metadata": {},
     "output_type": "execute_result"
    }
   ],
   "source": [
    "df.head()"
   ]
  },
  {
   "cell_type": "code",
   "execution_count": 4,
   "metadata": {},
   "outputs": [
    {
     "name": "stdout",
     "output_type": "stream",
     "text": [
      "<class 'pandas.core.frame.DataFrame'>\n",
      "RangeIndex: 36 entries, 0 to 35\n",
      "Data columns (total 2 columns):\n",
      " #   Column                                     Non-Null Count  Dtype  \n",
      "---  ------                                     --------------  -----  \n",
      " 0   Month                                      36 non-null     object \n",
      " 1   Sales of shampoo over a three year period  36 non-null     float64\n",
      "dtypes: float64(1), object(1)\n",
      "memory usage: 708.0+ bytes\n"
     ]
    }
   ],
   "source": [
    "df.info()"
   ]
  },
  {
   "cell_type": "code",
   "execution_count": 6,
   "metadata": {},
   "outputs": [],
   "source": [
    "df['Month'] = pd.to_datetime(df['Month'], format=\"%d-%b\")"
   ]
  },
  {
   "cell_type": "code",
   "execution_count": 1,
   "metadata": {},
   "outputs": [
    {
     "ename": "NameError",
     "evalue": "name 'df' is not defined",
     "output_type": "error",
     "traceback": [
      "\u001b[1;31m---------------------------------------------------------------------------\u001b[0m",
      "\u001b[1;31mNameError\u001b[0m                                 Traceback (most recent call last)",
      "Cell \u001b[1;32mIn[1], line 1\u001b[0m\n\u001b[1;32m----> 1\u001b[0m \u001b[43mdf\u001b[49m[\u001b[38;5;124m'\u001b[39m\u001b[38;5;124mSales of shampoo over a three year period\u001b[39m\u001b[38;5;124m'\u001b[39m]\u001b[38;5;241m.\u001b[39mresample(\u001b[38;5;124m'\u001b[39m\u001b[38;5;124mM\u001b[39m\u001b[38;5;124m'\u001b[39m)\u001b[38;5;241m.\u001b[39msum()\n",
      "\u001b[1;31mNameError\u001b[0m: name 'df' is not defined"
     ]
    }
   ],
   "source": [
    "df['Sales of shampoo over a three year period'].resample('M').sum()"
   ]
  },
  {
   "cell_type": "code",
   "execution_count": 8,
   "metadata": {},
   "outputs": [
    {
     "name": "stdout",
     "output_type": "stream",
     "text": [
      "ADF Statistic: 3.0601420836411815\n",
      "p-value: 1.0\n",
      "the series is not stationary\n"
     ]
    }
   ],
   "source": [
    "from statsmodels.tsa.stattools import adfuller\n",
    "\n",
    "def adf_test(series):\n",
    "    result = adfuller(series)\n",
    "    print(f'ADF Statistic: {result[0]}')\n",
    "    print(f'p-value: {result[1]}')\n",
    "    if result[1] <= 0.05:\n",
    "        print(\"The serious is stationary\")\n",
    "    else:\n",
    "        print(\"the series is not stationary\")\n",
    "\n",
    "adf_test(df['Sales of shampoo over a three year period'])"
   ]
  },
  {
   "cell_type": "code",
   "execution_count": null,
   "metadata": {},
   "outputs": [],
   "source": [
    "import matplotlib.pyplot as plt\n",
    "df['Sales_diff'] = df['Sales of shampoo over a three year period'].diff().dropna()\n",
    "\n",
    "# Recheck stationarity\n",
    "adf_test(df['Sales_diff'])\n",
    "\n",
    "# Visualize the differenced series\n",
    "plt.figure(figsize=(10, 6))\n",
    "plt.plot(df['Sales_diff'])\n",
    "plt.title('Differenced Sales Over Time')\n",
    "plt.show()\n"
   ]
  }
 ],
 "metadata": {
  "kernelspec": {
   "display_name": "env",
   "language": "python",
   "name": "python3"
  },
  "language_info": {
   "codemirror_mode": {
    "name": "ipython",
    "version": 3
   },
   "file_extension": ".py",
   "mimetype": "text/x-python",
   "name": "python",
   "nbconvert_exporter": "python",
   "pygments_lexer": "ipython3",
   "version": "3.12.2"
  }
 },
 "nbformat": 4,
 "nbformat_minor": 2
}
